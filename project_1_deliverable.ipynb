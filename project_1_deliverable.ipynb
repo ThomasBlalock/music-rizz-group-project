{
 "cells": [
  {
   "cell_type": "markdown",
   "id": "555918f8",
   "metadata": {},
   "source": [
    "# **<center>Project 1 - Music Rizz</center>**\n",
    "**<center>Understanding Undertainty<br></center>**\n",
    "**<center>11/13/2025<br></center>**\n",
    "**<center>Thomas Blalock • Terry Luedtke • Shriaz H. Robinson II</center>**"
   ]
  },
  {
   "cell_type": "markdown",
   "id": "e30acc2f",
   "metadata": {},
   "source": [
    "1. Describe the data clearly -- particularly any missing data that might impact your analysis -- and the provenance of your dataset. Who collected the data and why? (10/100 pts)"
   ]
  },
  {
   "cell_type": "code",
   "execution_count": null,
   "id": "42dec824",
   "metadata": {
    "vscode": {
     "languageId": "plaintext"
    }
   },
   "outputs": [],
   "source": [
    "# TODO"
   ]
  },
  {
   "cell_type": "markdown",
   "id": "1e76befa",
   "metadata": {},
   "source": [
    "2. What phenomenon are you modeling? Provide a brief background on the topic, including definitions and details that are relevant to your analysis. Clearly describe its main features, and support those claims with data where appropriate. (10/100 pts)"
   ]
  },
  {
   "cell_type": "markdown",
   "id": "3f71437d",
   "metadata": {},
   "source": [
    "TODO"
   ]
  },
  {
   "cell_type": "markdown",
   "id": "3ca9527b",
   "metadata": {},
   "source": [
    "3. Describe your non-parametric model (empirical cumulative distribution functions, kernel density function, local constant least squares regression, Markov transition models). How are you fitting your model to the phenomenon to get realistic properties of the data? What challenges did you have to overcome? (15/100 pts)"
   ]
  },
  {
   "cell_type": "markdown",
   "id": "784c1fa9",
   "metadata": {},
   "source": [
    "TODO"
   ]
  },
  {
   "cell_type": "markdown",
   "id": "3ae87420",
   "metadata": {},
   "source": [
    "4. Either use your model to create new sequences (if the model is more generative) or bootstrap a quantity of interest (if the model is more inferential). (15/100 pts)"
   ]
  },
  {
   "cell_type": "code",
   "execution_count": null,
   "id": "1e8eb2be",
   "metadata": {
    "vscode": {
     "languageId": "plaintext"
    }
   },
   "outputs": [],
   "source": [
    "# TODO"
   ]
  },
  {
   "cell_type": "markdown",
   "id": "eabffa9f",
   "metadata": {},
   "source": [
    "5. Critically evaluate your work in part 4. Do your sequences have the properties of the training data, and if not, why not? Are your estimates credible and reliable, or is there substantial uncertainty in your results? (15/100 pts)"
   ]
  },
  {
   "cell_type": "code",
   "execution_count": null,
   "id": "a79ab14b",
   "metadata": {
    "vscode": {
     "languageId": "plaintext"
    }
   },
   "outputs": [],
   "source": [
    "# TODO"
   ]
  },
  {
   "cell_type": "markdown",
   "id": "81bcb5df",
   "metadata": {},
   "source": [
    "6. Write a conclusion that explains the limitations of your analysis and potential for future work on this topic. (10/100 pts)"
   ]
  },
  {
   "cell_type": "markdown",
   "id": "66c451d3",
   "metadata": {},
   "source": [
    "TODO"
   ]
  }
 ],
 "metadata": {
  "language_info": {
   "name": "python"
  }
 },
 "nbformat": 4,
 "nbformat_minor": 5
}
