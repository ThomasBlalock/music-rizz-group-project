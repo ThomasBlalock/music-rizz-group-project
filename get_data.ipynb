{
 "cells": [
  {
   "cell_type": "code",
   "execution_count": null,
   "id": "650df9bb",
   "metadata": {},
   "outputs": [
    {
     "name": "stdout",
     "output_type": "stream",
     "text": [
      "Collecting requests\n",
      "  Using cached requests-2.32.5-py3-none-any.whl.metadata (4.9 kB)\n",
      "Collecting charset_normalizer<4,>=2 (from requests)\n",
      "  Downloading charset_normalizer-3.4.4-cp313-cp313-manylinux2014_x86_64.manylinux_2_17_x86_64.manylinux_2_28_x86_64.whl.metadata (37 kB)\n",
      "Collecting idna<4,>=2.5 (from requests)\n",
      "  Downloading idna-3.11-py3-none-any.whl.metadata (8.4 kB)\n",
      "Collecting urllib3<3,>=1.21.1 (from requests)\n",
      "  Using cached urllib3-2.5.0-py3-none-any.whl.metadata (6.5 kB)\n",
      "Collecting certifi>=2017.4.17 (from requests)\n",
      "  Downloading certifi-2025.10.5-py3-none-any.whl.metadata (2.5 kB)\n",
      "Using cached requests-2.32.5-py3-none-any.whl (64 kB)\n",
      "Downloading charset_normalizer-3.4.4-cp313-cp313-manylinux2014_x86_64.manylinux_2_17_x86_64.manylinux_2_28_x86_64.whl (153 kB)\n",
      "Downloading idna-3.11-py3-none-any.whl (71 kB)\n",
      "Using cached urllib3-2.5.0-py3-none-any.whl (129 kB)\n",
      "Downloading certifi-2025.10.5-py3-none-any.whl (163 kB)\n",
      "Installing collected packages: urllib3, idna, charset_normalizer, certifi, requests\n",
      "\u001b[2K   \u001b[90m━━━━━━━━━━━━━━━━━━━━━━━━━━━━━━━━━━━━━━━━\u001b[0m \u001b[32m5/5\u001b[0m [requests]1/5\u001b[0m [idna]\n",
      "\u001b[1A\u001b[2KSuccessfully installed certifi-2025.10.5 charset_normalizer-3.4.4 idna-3.11 requests-2.32.5 urllib3-2.5.0\n",
      "Download completed successfully. File saved as: /home/blalo/uva/understanding_uncertainty/music-rizz-group-project/data/chordonomicon.csv\n"
     ]
    }
   ],
   "source": [
    "url = 'https://huggingface.co/datasets/ailsntua/Chordonomicon/resolve/main/chordonomicon_v2.csv?download=true'\n",
    "import requests\n",
    "import os\n",
    "\n",
    "# create data folder\n",
    "if not os.path.exists(\"data\"):\n",
    "    os.makedirs(\"data\")\n",
    "\n",
    "def download_file_requests(url, filename):\n",
    "    \"\"\"\n",
    "    Downloads a file from a URL using the requests library.\n",
    "\n",
    "    Args:\n",
    "        url (str): The URL of the file to download.\n",
    "        filename (str): The local path and name to save the file as.\n",
    "    \"\"\"\n",
    "    try:\n",
    "        # Send a HTTP GET request to the URL\n",
    "        response = requests.get(url, stream=True)\n",
    "        response.raise_for_status() # Raise an exception for bad status codes (4xx or 5xx)\n",
    "\n",
    "        # Open the file in binary write mode ('wb')\n",
    "        with open(filename, 'wb') as f:\n",
    "            # Write the content in chunks to handle large files efficiently\n",
    "            for chunk in response.iter_content(chunk_size=8192):\n",
    "                if chunk: # Filter out keep-alive new chunks\n",
    "                    f.write(chunk)\n",
    "        print(f\"Download completed successfully. File saved as: {os.path.abspath(filename)}\")\n",
    "\n",
    "    except requests.exceptions.RequestException as e:\n",
    "        print(f\"Download failed: {e}\")\n",
    "\n",
    "# Example usage:\n",
    "save_as = \"data/chordonomicon.csv\"\n",
    "download_file_requests(url, save_as)\n"
   ]
  }
 ],
 "metadata": {
  "kernelspec": {
   "display_name": "understanding_uncertainty",
   "language": "python",
   "name": "python3"
  },
  "language_info": {
   "codemirror_mode": {
    "name": "ipython",
    "version": 3
   },
   "file_extension": ".py",
   "mimetype": "text/x-python",
   "name": "python",
   "nbconvert_exporter": "python",
   "pygments_lexer": "ipython3",
   "version": "3.13.5"
  }
 },
 "nbformat": 4,
 "nbformat_minor": 5
}
